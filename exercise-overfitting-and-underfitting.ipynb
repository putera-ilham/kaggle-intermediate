{
 "cells": [
  {
   "cell_type": "markdown",
   "id": "1ff932d4",
   "metadata": {
    "papermill": {
     "duration": 0.004797,
     "end_time": "2025-09-23T04:19:08.472197",
     "exception": false,
     "start_time": "2025-09-23T04:19:08.467400",
     "status": "completed"
    },
    "tags": []
   },
   "source": [
    "**This notebook is an exercise in the [Intro to Deep Learning](https://www.kaggle.com/learn/intro-to-deep-learning) course.  You can reference the tutorial at [this link](https://www.kaggle.com/ryanholbrook/overfitting-and-underfitting).**\n",
    "\n",
    "---\n"
   ]
  },
  {
   "cell_type": "markdown",
   "id": "0fa938c0",
   "metadata": {
    "papermill": {
     "duration": 0.003995,
     "end_time": "2025-09-23T04:19:08.480556",
     "exception": false,
     "start_time": "2025-09-23T04:19:08.476561",
     "status": "completed"
    },
    "tags": []
   },
   "source": [
    "# Introduction #\n",
    "\n",
    "In this exercise, you’ll learn how to improve training outcomes by including an early stopping callback to prevent overfitting.\n",
    "\n",
    "When you're ready, run this next cell to set everything up!"
   ]
  },
  {
   "cell_type": "code",
   "execution_count": 1,
   "id": "bea17a6c",
   "metadata": {
    "execution": {
     "iopub.execute_input": "2025-09-23T04:19:08.490479Z",
     "iopub.status.busy": "2025-09-23T04:19:08.490089Z",
     "iopub.status.idle": "2025-09-23T04:19:09.334466Z",
     "shell.execute_reply": "2025-09-23T04:19:09.333532Z"
    },
    "papermill": {
     "duration": 0.851983,
     "end_time": "2025-09-23T04:19:09.336732",
     "exception": false,
     "start_time": "2025-09-23T04:19:08.484749",
     "status": "completed"
    },
    "tags": []
   },
   "outputs": [
    {
     "name": "stderr",
     "output_type": "stream",
     "text": [
      "/tmp/ipykernel_26/1500229236.py:3: MatplotlibDeprecationWarning: The seaborn styles shipped by Matplotlib are deprecated since 3.6, as they no longer correspond to the styles shipped by seaborn. However, they will remain available as 'seaborn-v0_8-<style>'. Alternatively, directly use the seaborn API instead.\n",
      "  plt.style.use('seaborn-whitegrid')\n"
     ]
    }
   ],
   "source": [
    "# Setup plotting\n",
    "import matplotlib.pyplot as plt\n",
    "plt.style.use('seaborn-whitegrid')\n",
    "# Set Matplotlib defaults\n",
    "plt.rc('figure', autolayout=True)\n",
    "plt.rc('axes', labelweight='bold', labelsize='large',\n",
    "       titleweight='bold', titlesize=18, titlepad=10)\n",
    "plt.rc('animation', html='html5')\n",
    "\n",
    "# Setup feedback system\n",
    "from learntools.core import binder\n",
    "binder.bind(globals())\n",
    "from learntools.deep_learning_intro.ex4 import *"
   ]
  },
  {
   "cell_type": "markdown",
   "id": "7a87617b",
   "metadata": {
    "papermill": {
     "duration": 0.00426,
     "end_time": "2025-09-23T04:19:09.345581",
     "exception": false,
     "start_time": "2025-09-23T04:19:09.341321",
     "status": "completed"
    },
    "tags": []
   },
   "source": [
    "First load the *Spotify* dataset. Your task will be to predict the popularity of a song based on various audio features, like `'tempo'`, `'danceability'`, and `'mode'`."
   ]
  },
  {
   "cell_type": "code",
   "execution_count": 2,
   "id": "4afa079b",
   "metadata": {
    "execution": {
     "iopub.execute_input": "2025-09-23T04:19:09.355803Z",
     "iopub.status.busy": "2025-09-23T04:19:09.355344Z",
     "iopub.status.idle": "2025-09-23T04:19:24.453312Z",
     "shell.execute_reply": "2025-09-23T04:19:24.452086Z"
    },
    "papermill": {
     "duration": 15.105516,
     "end_time": "2025-09-23T04:19:24.455364",
     "exception": false,
     "start_time": "2025-09-23T04:19:09.349848",
     "status": "completed"
    },
    "tags": []
   },
   "outputs": [
    {
     "name": "stderr",
     "output_type": "stream",
     "text": [
      "2025-09-23 04:19:12.705113: E external/local_xla/xla/stream_executor/cuda/cuda_dnn.cc:9261] Unable to register cuDNN factory: Attempting to register factory for plugin cuDNN when one has already been registered\n",
      "2025-09-23 04:19:12.705279: E external/local_xla/xla/stream_executor/cuda/cuda_fft.cc:607] Unable to register cuFFT factory: Attempting to register factory for plugin cuFFT when one has already been registered\n",
      "2025-09-23 04:19:12.847943: E external/local_xla/xla/stream_executor/cuda/cuda_blas.cc:1515] Unable to register cuBLAS factory: Attempting to register factory for plugin cuBLAS when one has already been registered\n"
     ]
    },
    {
     "name": "stdout",
     "output_type": "stream",
     "text": [
      "Input shape: [18]\n"
     ]
    }
   ],
   "source": [
    "import pandas as pd\n",
    "from sklearn.preprocessing import StandardScaler, OneHotEncoder\n",
    "from sklearn.compose import make_column_transformer\n",
    "from sklearn.model_selection import GroupShuffleSplit\n",
    "\n",
    "from tensorflow import keras\n",
    "from tensorflow.keras import layers\n",
    "from tensorflow.keras import callbacks\n",
    "\n",
    "spotify = pd.read_csv('../input/dl-course-data/spotify.csv')\n",
    "\n",
    "X = spotify.copy().dropna()\n",
    "y = X.pop('track_popularity')\n",
    "artists = X['track_artist']\n",
    "\n",
    "features_num = ['danceability', 'energy', 'key', 'loudness', 'mode',\n",
    "                'speechiness', 'acousticness', 'instrumentalness',\n",
    "                'liveness', 'valence', 'tempo', 'duration_ms']\n",
    "features_cat = ['playlist_genre']\n",
    "\n",
    "preprocessor = make_column_transformer(\n",
    "    (StandardScaler(), features_num),\n",
    "    (OneHotEncoder(), features_cat),\n",
    ")\n",
    "\n",
    "# We'll do a \"grouped\" split to keep all of an artist's songs in one\n",
    "# split or the other. This is to help prevent signal leakage.\n",
    "def group_split(X, y, group, train_size=0.75):\n",
    "    splitter = GroupShuffleSplit(train_size=train_size)\n",
    "    train, test = next(splitter.split(X, y, groups=group))\n",
    "    return (X.iloc[train], X.iloc[test], y.iloc[train], y.iloc[test])\n",
    "\n",
    "X_train, X_valid, y_train, y_valid = group_split(X, y, artists)\n",
    "\n",
    "X_train = preprocessor.fit_transform(X_train)\n",
    "X_valid = preprocessor.transform(X_valid)\n",
    "y_train = y_train / 100 # popularity is on a scale 0-100, so this rescales to 0-1.\n",
    "y_valid = y_valid / 100\n",
    "\n",
    "input_shape = [X_train.shape[1]]\n",
    "print(\"Input shape: {}\".format(input_shape))"
   ]
  },
  {
   "cell_type": "markdown",
   "id": "8a923290",
   "metadata": {
    "papermill": {
     "duration": 0.004324,
     "end_time": "2025-09-23T04:19:24.464545",
     "exception": false,
     "start_time": "2025-09-23T04:19:24.460221",
     "status": "completed"
    },
    "tags": []
   },
   "source": [
    "Let's start with the simplest network, a linear model. This model has low capacity.\n",
    "\n",
    "Run this next cell without any changes to train a linear model on the *Spotify* dataset."
   ]
  },
  {
   "cell_type": "code",
   "execution_count": 3,
   "id": "203d3955",
   "metadata": {
    "execution": {
     "iopub.execute_input": "2025-09-23T04:19:24.475369Z",
     "iopub.status.busy": "2025-09-23T04:19:24.474711Z",
     "iopub.status.idle": "2025-09-23T04:19:35.066025Z",
     "shell.execute_reply": "2025-09-23T04:19:35.064905Z"
    },
    "lines_to_next_cell": 0,
    "papermill": {
     "duration": 10.599015,
     "end_time": "2025-09-23T04:19:35.068117",
     "exception": false,
     "start_time": "2025-09-23T04:19:24.469102",
     "status": "completed"
    },
    "tags": []
   },
   "outputs": [
    {
     "name": "stderr",
     "output_type": "stream",
     "text": [
      "WARNING: All log messages before absl::InitializeLog() is called are written to STDERR\n",
      "I0000 00:00:1758601166.852824      69 device_compiler.h:186] Compiled cluster using XLA!  This line is logged at most once for the lifetime of the process.\n"
     ]
    },
    {
     "name": "stdout",
     "output_type": "stream",
     "text": [
      "Minimum Validation Loss: 0.1949\n"
     ]
    },
    {
     "data": {
      "image/png": "[encoded data removed]",
      "text/plain": [
       "<Figure size 640x480 with 1 Axes>"
      ]
     },
     "metadata": {},
     "output_type": "display_data"
    }
   ],
   "source": [
    "model = keras.Sequential([\n",
    "    layers.Dense(1, input_shape=input_shape),\n",
    "])\n",
    "model.compile(\n",
    "    optimizer='adam',\n",
    "    loss='mae',\n",
    ")\n",
    "history = model.fit(\n",
    "    X_train, y_train,\n",
    "    validation_data=(X_valid, y_valid),\n",
    "    batch_size=512,\n",
    "    epochs=50,\n",
    "    verbose=0, # suppress output since we'll plot the curves\n",
    ")\n",
    "history_df = pd.DataFrame(history.history)\n",
    "history_df.loc[0:, ['loss', 'val_loss']].plot()\n",
    "print(\"Minimum Validation Loss: {:0.4f}\".format(history_df['val_loss'].min()));"
   ]
  },
  {
   "cell_type": "markdown",
   "id": "23f5053f",
   "metadata": {
    "papermill": {
     "duration": 0.004985,
     "end_time": "2025-09-23T04:19:35.078612",
     "exception": false,
     "start_time": "2025-09-23T04:19:35.073627",
     "status": "completed"
    },
    "tags": []
   },
   "source": [
    "It's not uncommon for the curves to follow a \"hockey stick\" pattern like you see here. This makes the final part of training hard to see, so let's start at epoch 10 instead:"
   ]
  },
  {
   "cell_type": "code",
   "execution_count": 4,
   "id": "d785829e",
   "metadata": {
    "execution": {
     "iopub.execute_input": "2025-09-23T04:19:35.090993Z",
     "iopub.status.busy": "2025-09-23T04:19:35.090630Z",
     "iopub.status.idle": "2025-09-23T04:19:35.453411Z",
     "shell.execute_reply": "2025-09-23T04:19:35.452304Z"
    },
    "papermill": {
     "duration": 0.371358,
     "end_time": "2025-09-23T04:19:35.455450",
     "exception": false,
     "start_time": "2025-09-23T04:19:35.084092",
     "status": "completed"
    },
    "tags": []
   },
   "outputs": [
    {
     "name": "stdout",
     "output_type": "stream",
     "text": [
      "Minimum Validation Loss: 0.1949\n"
     ]
    },
    {
     "data": {
      "image/png": "[encoded data removed]",
      "text/plain": [
       "<Figure size 640x480 with 1 Axes>"
      ]
     },
     "metadata": {},
     "output_type": "display_data"
    }
   ],
   "source": [
    "# Start the plot at epoch 10\n",
    "history_df.loc[10:, ['loss', 'val_loss']].plot()\n",
    "print(\"Minimum Validation Loss: {:0.4f}\".format(history_df['val_loss'].min()));"
   ]
  },
  {
   "cell_type": "markdown",
   "id": "cc083529",
   "metadata": {
    "papermill": {
     "duration": 0.006455,
     "end_time": "2025-09-23T04:19:35.467723",
     "exception": false,
     "start_time": "2025-09-23T04:19:35.461268",
     "status": "completed"
    },
    "tags": []
   },
   "source": [
    "# 1) Evaluate Baseline\n",
    "\n",
    "What do you think? Would you say this model is underfitting, overfitting, just right?"
   ]
  },
  {
   "cell_type": "code",
   "execution_count": 5,
   "id": "ec446541",
   "metadata": {
    "execution": {
     "iopub.execute_input": "2025-09-23T04:19:35.480328Z",
     "iopub.status.busy": "2025-09-23T04:19:35.479707Z",
     "iopub.status.idle": "2025-09-23T04:19:35.487474Z",
     "shell.execute_reply": "2025-09-23T04:19:35.486525Z"
    },
    "papermill": {
     "duration": 0.016248,
     "end_time": "2025-09-23T04:19:35.489454",
     "exception": false,
     "start_time": "2025-09-23T04:19:35.473206",
     "status": "completed"
    },
    "tags": []
   },
   "outputs": [
    {
     "data": {
      "application/javascript": [
       "parent.postMessage({\"jupyterEvent\": \"custom.exercise_interaction\", \"data\": {\"outcomeType\": 1, \"valueTowardsCompletion\": 0.25, \"interactionType\": 1, \"questionType\": 4, \"questionId\": \"1_Q1\", \"learnToolsVersion\": \"0.3.4\", \"failureMessage\": \"\", \"exceptionClass\": \"\", \"trace\": \"\"}}, \"*\")"
      ],
      "text/plain": [
       "<IPython.core.display.Javascript object>"
      ]
     },
     "metadata": {},
     "output_type": "display_data"
    },
    {
     "data": {
      "text/markdown": [
       "<span style=\"color:#33cc33\">Correct:</span> \n",
       "\n",
       "The gap between these curves is quite small and the validation loss never increases, so it's more likely that the network is underfitting than overfitting. It would be worth experimenting with more capacity to see if that's the case."
      ],
      "text/plain": [
       "Correct: \n",
       "\n",
       "The gap between these curves is quite small and the validation loss never increases, so it's more likely that the network is underfitting than overfitting. It would be worth experimenting with more capacity to see if that's the case."
      ]
     },
     "metadata": {},
     "output_type": "display_data"
    }
   ],
   "source": [
    "# View the solution (Run this cell to receive credit!)\n",
    "q_1.check()"
   ]
  },
  {
   "cell_type": "markdown",
   "id": "0f513d88",
   "metadata": {
    "papermill": {
     "duration": 0.005528,
     "end_time": "2025-09-23T04:19:35.500824",
     "exception": false,
     "start_time": "2025-09-23T04:19:35.495296",
     "status": "completed"
    },
    "tags": []
   },
   "source": [
    "Now let's add some capacity to our network. We'll add three hidden layers with 128 units each. Run the next cell to train the network and see the learning curves."
   ]
  },
  {
   "cell_type": "code",
   "execution_count": 6,
   "id": "510f996c",
   "metadata": {
    "execution": {
     "iopub.execute_input": "2025-09-23T04:19:35.513691Z",
     "iopub.status.busy": "2025-09-23T04:19:35.513353Z",
     "iopub.status.idle": "2025-09-23T04:19:47.667980Z",
     "shell.execute_reply": "2025-09-23T04:19:47.667004Z"
    },
    "papermill": {
     "duration": 12.163623,
     "end_time": "2025-09-23T04:19:47.670149",
     "exception": false,
     "start_time": "2025-09-23T04:19:35.506526",
     "status": "completed"
    },
    "tags": []
   },
   "outputs": [
    {
     "name": "stdout",
     "output_type": "stream",
     "text": [
      "Epoch 1/50\n",
      "48/48 [==============================] - 2s 7ms/step - loss: 0.2666 - val_loss: 0.2117\n",
      "Epoch 2/50\n",
      "48/48 [==============================] - 0s 4ms/step - loss: 0.2061 - val_loss: 0.2042\n",
      "Epoch 3/50\n",
      "48/48 [==============================] - 0s 5ms/step - loss: 0.2000 - val_loss: 0.1996\n",
      "Epoch 4/50\n",
      "48/48 [==============================] - 0s 4ms/step - loss: 0.1965 - val_loss: 0.1979\n",
      "Epoch 5/50\n",
      "48/48 [==============================] - 0s 4ms/step - loss: 0.1938 - val_loss: 0.1976\n",
      "Epoch 6/50\n",
      "48/48 [==============================] - 0s 4ms/step - loss: 0.1921 - val_loss: 0.1962\n",
      "Epoch 7/50\n",
      "48/48 [==============================] - 0s 4ms/step - loss: 0.1906 - val_loss: 0.1960\n",
      "Epoch 8/50\n",
      "48/48 [==============================] - 0s 4ms/step - loss: 0.1895 - val_loss: 0.1966\n",
      "Epoch 9/50\n",
      "48/48 [==============================] - 0s 4ms/step - loss: 0.1881 - val_loss: 0.1955\n",
      "Epoch 10/50\n",
      "48/48 [==============================] - 0s 4ms/step - loss: 0.1871 - val_loss: 0.1947\n",
      "Epoch 11/50\n",
      "48/48 [==============================] - 0s 4ms/step - loss: 0.1861 - val_loss: 0.1967\n",
      "Epoch 12/50\n",
      "48/48 [==============================] - 0s 4ms/step - loss: 0.1859 - val_loss: 0.1952\n",
      "Epoch 13/50\n",
      "48/48 [==============================] - 0s 5ms/step - loss: 0.1849 - val_loss: 0.1966\n",
      "Epoch 14/50\n",
      "48/48 [==============================] - 0s 4ms/step - loss: 0.1844 - val_loss: 0.1967\n",
      "Epoch 15/50\n",
      "48/48 [==============================] - 0s 4ms/step - loss: 0.1835 - val_loss: 0.1949\n",
      "Epoch 16/50\n",
      "48/48 [==============================] - 0s 4ms/step - loss: 0.1828 - val_loss: 0.1962\n",
      "Epoch 17/50\n",
      "48/48 [==============================] - 0s 4ms/step - loss: 0.1826 - val_loss: 0.1959\n",
      "Epoch 18/50\n",
      "48/48 [==============================] - 0s 4ms/step - loss: 0.1815 - val_loss: 0.1960\n",
      "Epoch 19/50\n",
      "48/48 [==============================] - 0s 5ms/step - loss: 0.1809 - val_loss: 0.1949\n",
      "Epoch 20/50\n",
      "48/48 [==============================] - 0s 4ms/step - loss: 0.1806 - val_loss: 0.1955\n",
      "Epoch 21/50\n",
      "48/48 [==============================] - 0s 4ms/step - loss: 0.1801 - val_loss: 0.1973\n",
      "Epoch 22/50\n",
      "48/48 [==============================] - 0s 4ms/step - loss: 0.1793 - val_loss: 0.1976\n",
      "Epoch 23/50\n",
      "48/48 [==============================] - 0s 5ms/step - loss: 0.1785 - val_loss: 0.1964\n",
      "Epoch 24/50\n",
      "48/48 [==============================] - 0s 4ms/step - loss: 0.1783 - val_loss: 0.1973\n",
      "Epoch 25/50\n",
      "48/48 [==============================] - 0s 4ms/step - loss: 0.1776 - val_loss: 0.1964\n",
      "Epoch 26/50\n",
      "48/48 [==============================] - 0s 4ms/step - loss: 0.1767 - val_loss: 0.1974\n",
      "Epoch 27/50\n",
      "48/48 [==============================] - 0s 4ms/step - loss: 0.1766 - val_loss: 0.1978\n",
      "Epoch 28/50\n",
      "48/48 [==============================] - 0s 4ms/step - loss: 0.1762 - val_loss: 0.1994\n",
      "Epoch 29/50\n",
      "48/48 [==============================] - 0s 4ms/step - loss: 0.1754 - val_loss: 0.1977\n",
      "Epoch 30/50\n",
      "48/48 [==============================] - 0s 4ms/step - loss: 0.1758 - val_loss: 0.1986\n",
      "Epoch 31/50\n",
      "48/48 [==============================] - 0s 4ms/step - loss: 0.1750 - val_loss: 0.1998\n",
      "Epoch 32/50\n",
      "48/48 [==============================] - 0s 5ms/step - loss: 0.1751 - val_loss: 0.1974\n",
      "Epoch 33/50\n",
      "48/48 [==============================] - 0s 4ms/step - loss: 0.1735 - val_loss: 0.1973\n",
      "Epoch 34/50\n",
      "48/48 [==============================] - 0s 4ms/step - loss: 0.1734 - val_loss: 0.1986\n",
      "Epoch 35/50\n",
      "48/48 [==============================] - 0s 4ms/step - loss: 0.1731 - val_loss: 0.2014\n",
      "Epoch 36/50\n",
      "48/48 [==============================] - 0s 4ms/step - loss: 0.1727 - val_loss: 0.1986\n",
      "Epoch 37/50\n",
      "48/48 [==============================] - 0s 4ms/step - loss: 0.1719 - val_loss: 0.1993\n",
      "Epoch 38/50\n",
      "48/48 [==============================] - 0s 5ms/step - loss: 0.1715 - val_loss: 0.1989\n",
      "Epoch 39/50\n",
      "48/48 [==============================] - 0s 4ms/step - loss: 0.1709 - val_loss: 0.1986\n",
      "Epoch 40/50\n",
      "48/48 [==============================] - 0s 4ms/step - loss: 0.1710 - val_loss: 0.1988\n",
      "Epoch 41/50\n",
      "48/48 [==============================] - 0s 4ms/step - loss: 0.1699 - val_loss: 0.1994\n",
      "Epoch 42/50\n",
      "48/48 [==============================] - 0s 4ms/step - loss: 0.1705 - val_loss: 0.2031\n",
      "Epoch 43/50\n",
      "48/48 [==============================] - 0s 4ms/step - loss: 0.1694 - val_loss: 0.2000\n",
      "Epoch 44/50\n",
      "48/48 [==============================] - 0s 4ms/step - loss: 0.1680 - val_loss: 0.2009\n",
      "Epoch 45/50\n",
      "48/48 [==============================] - 0s 4ms/step - loss: 0.1680 - val_loss: 0.2005\n",
      "Epoch 46/50\n",
      "48/48 [==============================] - 0s 4ms/step - loss: 0.1675 - val_loss: 0.2008\n",
      "Epoch 47/50\n",
      "48/48 [==============================] - 0s 4ms/step - loss: 0.1673 - val_loss: 0.2010\n",
      "Epoch 48/50\n",
      "48/48 [==============================] - 0s 4ms/step - loss: 0.1665 - val_loss: 0.2039\n",
      "Epoch 49/50\n",
      "48/48 [==============================] - 0s 4ms/step - loss: 0.1668 - val_loss: 0.2029\n",
      "Epoch 50/50\n",
      "48/48 [==============================] - 0s 4ms/step - loss: 0.1657 - val_loss: 0.2025\n",
      "Minimum Validation Loss: 0.1947\n"
     ]
    },
    {
     "data": {
      "image/png": "[encoded data removed]",
      "text/plain": [
       "<Figure size 640x480 with 1 Axes>"
      ]
     },
     "metadata": {},
     "output_type": "display_data"
    }
   ],
   "source": [
    "model = keras.Sequential([\n",
    "    layers.Dense(128, activation='relu', input_shape=input_shape),\n",
    "    layers.Dense(64, activation='relu'),\n",
    "    layers.Dense(1)\n",
    "])\n",
    "model.compile(\n",
    "    optimizer='adam',\n",
    "    loss='mae',\n",
    ")\n",
    "history = model.fit(\n",
    "    X_train, y_train,\n",
    "    validation_data=(X_valid, y_valid),\n",
    "    batch_size=512,\n",
    "    epochs=50,\n",
    ")\n",
    "history_df = pd.DataFrame(history.history)\n",
    "history_df.loc[:, ['loss', 'val_loss']].plot()\n",
    "print(\"Minimum Validation Loss: {:0.4f}\".format(history_df['val_loss'].min()));"
   ]
  },
  {
   "cell_type": "markdown",
   "id": "ea05c144",
   "metadata": {
    "papermill": {
     "duration": 0.019575,
     "end_time": "2025-09-23T04:19:47.709304",
     "exception": false,
     "start_time": "2025-09-23T04:19:47.689729",
     "status": "completed"
    },
    "tags": []
   },
   "source": [
    "# 2) Add Capacity\n",
    "\n",
    "What is your evaluation of these curves? Underfitting, overfitting, just right?"
   ]
  },
  {
   "cell_type": "code",
   "execution_count": 7,
   "id": "db8cf0f3",
   "metadata": {
    "execution": {
     "iopub.execute_input": "2025-09-23T04:19:47.752082Z",
     "iopub.status.busy": "2025-09-23T04:19:47.751717Z",
     "iopub.status.idle": "2025-09-23T04:19:47.759594Z",
     "shell.execute_reply": "2025-09-23T04:19:47.758590Z"
    },
    "papermill": {
     "duration": 0.030194,
     "end_time": "2025-09-23T04:19:47.761403",
     "exception": false,
     "start_time": "2025-09-23T04:19:47.731209",
     "status": "completed"
    },
    "tags": []
   },
   "outputs": [
    {
     "data": {
      "application/javascript": [
       "parent.postMessage({\"jupyterEvent\": \"custom.exercise_interaction\", \"data\": {\"outcomeType\": 1, \"valueTowardsCompletion\": 0.25, \"interactionType\": 1, \"questionType\": 4, \"questionId\": \"2_Q2\", \"learnToolsVersion\": \"0.3.4\", \"failureMessage\": \"\", \"exceptionClass\": \"\", \"trace\": \"\"}}, \"*\")"
      ],
      "text/plain": [
       "<IPython.core.display.Javascript object>"
      ]
     },
     "metadata": {},
     "output_type": "display_data"
    },
    {
     "data": {
      "text/markdown": [
       "<span style=\"color:#33cc33\">Correct:</span> \n",
       "\n",
       "Now the validation loss begins to rise very early, while the training loss continues to decrease. This indicates that the network has begun to overfit. At this point, we would need to try something to prevent it, either by reducing the number of units or through a method like early stopping. (We'll see another in the next lesson!)"
      ],
      "text/plain": [
       "Correct: \n",
       "\n",
       "Now the validation loss begins to rise very early, while the training loss continues to decrease. This indicates that the network has begun to overfit. At this point, we would need to try something to prevent it, either by reducing the number of units or through a method like early stopping. (We'll see another in the next lesson!)"
      ]
     },
     "metadata": {},
     "output_type": "display_data"
    }
   ],
   "source": [
    "# View the solution (Run this cell to receive credit!)\n",
    "q_2.check()"
   ]
  },
  {
   "cell_type": "markdown",
   "id": "c8b983b2",
   "metadata": {
    "papermill": {
     "duration": 0.018988,
     "end_time": "2025-09-23T04:19:47.799521",
     "exception": false,
     "start_time": "2025-09-23T04:19:47.780533",
     "status": "completed"
    },
    "tags": []
   },
   "source": [
    "# 3) Define Early Stopping Callback\n",
    "\n",
    "Now define an early stopping callback that waits 5 epochs (`patience'`) for a change in validation loss of at least `0.001` (`min_delta`) and keeps the weights with the best loss (`restore_best_weights`)."
   ]
  },
  {
   "cell_type": "code",
   "execution_count": 8,
   "id": "98de0a3a",
   "metadata": {
    "execution": {
     "iopub.execute_input": "2025-09-23T04:19:47.839891Z",
     "iopub.status.busy": "2025-09-23T04:19:47.839510Z",
     "iopub.status.idle": "2025-09-23T04:19:47.848258Z",
     "shell.execute_reply": "2025-09-23T04:19:47.847221Z"
    },
    "lines_to_next_cell": 0,
    "papermill": {
     "duration": 0.031582,
     "end_time": "2025-09-23T04:19:47.850221",
     "exception": false,
     "start_time": "2025-09-23T04:19:47.818639",
     "status": "completed"
    },
    "tags": []
   },
   "outputs": [
    {
     "data": {
      "application/javascript": [
       "parent.postMessage({\"jupyterEvent\": \"custom.exercise_interaction\", \"data\": {\"outcomeType\": 1, \"valueTowardsCompletion\": 0.25, \"interactionType\": 1, \"questionType\": 2, \"questionId\": \"3_Q3\", \"learnToolsVersion\": \"0.3.4\", \"failureMessage\": \"\", \"exceptionClass\": \"\", \"trace\": \"\"}}, \"*\")"
      ],
      "text/plain": [
       "<IPython.core.display.Javascript object>"
      ]
     },
     "metadata": {},
     "output_type": "display_data"
    },
    {
     "data": {
      "text/markdown": [
       "<span style=\"color:#33cc33\">Correct</span>"
      ],
      "text/plain": [
       "Correct"
      ]
     },
     "metadata": {},
     "output_type": "display_data"
    }
   ],
   "source": [
    "from tensorflow.keras import callbacks\n",
    "\n",
    "# YOUR CODE HERE: define an early stopping callback\n",
    "early_stopping = callbacks.EarlyStopping(\n",
    "    min_delta=0.001, # minimium amount of change to count as an improvement\n",
    "    patience=5, # how many epochs to wait before stopping\n",
    "    restore_best_weights=True,\n",
    ")\n",
    "# Check your answer\n",
    "q_3.check()"
   ]
  },
  {
   "cell_type": "code",
   "execution_count": 9,
   "id": "9f84c2f0",
   "metadata": {
    "execution": {
     "iopub.execute_input": "2025-09-23T04:19:47.892887Z",
     "iopub.status.busy": "2025-09-23T04:19:47.892543Z",
     "iopub.status.idle": "2025-09-23T04:19:47.897281Z",
     "shell.execute_reply": "2025-09-23T04:19:47.896254Z"
    },
    "papermill": {
     "duration": 0.028015,
     "end_time": "2025-09-23T04:19:47.899229",
     "exception": false,
     "start_time": "2025-09-23T04:19:47.871214",
     "status": "completed"
    },
    "tags": []
   },
   "outputs": [],
   "source": [
    "# Lines below will give you a hint or solution code\n",
    "#q_3.hint()\n",
    "#q_3.solution()"
   ]
  },
  {
   "cell_type": "markdown",
   "id": "bb46e424",
   "metadata": {
    "papermill": {
     "duration": 0.020032,
     "end_time": "2025-09-23T04:19:47.939826",
     "exception": false,
     "start_time": "2025-09-23T04:19:47.919794",
     "status": "completed"
    },
    "tags": []
   },
   "source": [
    "Now run this cell to train the model and get the learning curves. Notice the `callbacks` argument in `model.fit`."
   ]
  },
  {
   "cell_type": "code",
   "execution_count": 10,
   "id": "01cc6237",
   "metadata": {
    "execution": {
     "iopub.execute_input": "2025-09-23T04:19:47.983188Z",
     "iopub.status.busy": "2025-09-23T04:19:47.982217Z",
     "iopub.status.idle": "2025-09-23T04:19:52.173640Z",
     "shell.execute_reply": "2025-09-23T04:19:52.172514Z"
    },
    "papermill": {
     "duration": 4.215492,
     "end_time": "2025-09-23T04:19:52.175712",
     "exception": false,
     "start_time": "2025-09-23T04:19:47.960220",
     "status": "completed"
    },
    "tags": []
   },
   "outputs": [
    {
     "name": "stdout",
     "output_type": "stream",
     "text": [
      "Epoch 1/50\n",
      "48/48 [==============================] - 1s 7ms/step - loss: 0.2275 - val_loss: 0.2033\n",
      "Epoch 2/50\n",
      "48/48 [==============================] - 0s 5ms/step - loss: 0.2004 - val_loss: 0.1991\n",
      "Epoch 3/50\n",
      "48/48 [==============================] - 0s 4ms/step - loss: 0.1956 - val_loss: 0.1976\n",
      "Epoch 4/50\n",
      "48/48 [==============================] - 0s 4ms/step - loss: 0.1933 - val_loss: 0.1969\n",
      "Epoch 5/50\n",
      "48/48 [==============================] - 0s 4ms/step - loss: 0.1907 - val_loss: 0.1971\n",
      "Epoch 6/50\n",
      "48/48 [==============================] - 0s 4ms/step - loss: 0.1891 - val_loss: 0.1980\n",
      "Epoch 7/50\n",
      "48/48 [==============================] - 0s 4ms/step - loss: 0.1881 - val_loss: 0.1979\n",
      "Epoch 8/50\n",
      "48/48 [==============================] - 0s 4ms/step - loss: 0.1873 - val_loss: 0.1953\n",
      "Epoch 9/50\n",
      "48/48 [==============================] - 0s 4ms/step - loss: 0.1853 - val_loss: 0.1961\n",
      "Epoch 10/50\n",
      "48/48 [==============================] - 0s 4ms/step - loss: 0.1848 - val_loss: 0.1958\n",
      "Epoch 11/50\n",
      "48/48 [==============================] - 0s 4ms/step - loss: 0.1840 - val_loss: 0.1958\n",
      "Epoch 12/50\n",
      "48/48 [==============================] - 0s 4ms/step - loss: 0.1830 - val_loss: 0.1962\n",
      "Epoch 13/50\n",
      "48/48 [==============================] - 0s 5ms/step - loss: 0.1827 - val_loss: 0.1979\n",
      "Minimum Validation Loss: 0.1953\n"
     ]
    },
    {
     "data": {
      "image/png": "[encoded data removed]",
      "text/plain": [
       "<Figure size 640x480 with 1 Axes>"
      ]
     },
     "metadata": {},
     "output_type": "display_data"
    }
   ],
   "source": [
    "model = keras.Sequential([\n",
    "    layers.Dense(128, activation='relu', input_shape=input_shape),\n",
    "    layers.Dense(64, activation='relu'),    \n",
    "    layers.Dense(1)\n",
    "])\n",
    "model.compile(\n",
    "    optimizer='adam',\n",
    "    loss='mae',\n",
    ")\n",
    "history = model.fit(\n",
    "    X_train, y_train,\n",
    "    validation_data=(X_valid, y_valid),\n",
    "    batch_size=512,\n",
    "    epochs=50,\n",
    "    callbacks=[early_stopping]\n",
    ")\n",
    "history_df = pd.DataFrame(history.history)\n",
    "history_df.loc[:, ['loss', 'val_loss']].plot()\n",
    "print(\"Minimum Validation Loss: {:0.4f}\".format(history_df['val_loss'].min()));"
   ]
  },
  {
   "cell_type": "markdown",
   "id": "ed2e2d4b",
   "metadata": {
    "papermill": {
     "duration": 0.023067,
     "end_time": "2025-09-23T04:19:52.222296",
     "exception": false,
     "start_time": "2025-09-23T04:19:52.199229",
     "status": "completed"
    },
    "tags": []
   },
   "source": [
    "# 4) Train and Interpret\n",
    "\n",
    "Was this an improvement compared to training without early stopping?"
   ]
  },
  {
   "cell_type": "code",
   "execution_count": 11,
   "id": "79799fe4",
   "metadata": {
    "execution": {
     "iopub.execute_input": "2025-09-23T04:19:52.271546Z",
     "iopub.status.busy": "2025-09-23T04:19:52.270537Z",
     "iopub.status.idle": "2025-09-23T04:19:52.279303Z",
     "shell.execute_reply": "2025-09-23T04:19:52.278274Z"
    },
    "papermill": {
     "duration": 0.035612,
     "end_time": "2025-09-23T04:19:52.281276",
     "exception": false,
     "start_time": "2025-09-23T04:19:52.245664",
     "status": "completed"
    },
    "tags": []
   },
   "outputs": [
    {
     "data": {
      "application/javascript": [
       "parent.postMessage({\"jupyterEvent\": \"custom.exercise_interaction\", \"data\": {\"outcomeType\": 1, \"valueTowardsCompletion\": 0.25, \"interactionType\": 1, \"questionType\": 4, \"questionId\": \"4_Q4\", \"learnToolsVersion\": \"0.3.4\", \"failureMessage\": \"\", \"exceptionClass\": \"\", \"trace\": \"\"}}, \"*\")"
      ],
      "text/plain": [
       "<IPython.core.display.Javascript object>"
      ]
     },
     "metadata": {},
     "output_type": "display_data"
    },
    {
     "data": {
      "text/markdown": [
       "<span style=\"color:#33cc33\">Correct:</span> \n",
       "\n",
       "The early stopping callback did stop the training once the network began overfitting. Moreover, by including `restore_best_weights` we still get to keep the model where validation loss was lowest."
      ],
      "text/plain": [
       "Correct: \n",
       "\n",
       "The early stopping callback did stop the training once the network began overfitting. Moreover, by including `restore_best_weights` we still get to keep the model where validation loss was lowest."
      ]
     },
     "metadata": {},
     "output_type": "display_data"
    }
   ],
   "source": [
    "# View the solution (Run this cell to receive credit!)\n",
    "q_4.check()"
   ]
  },
  {
   "cell_type": "markdown",
   "id": "5667a82a",
   "metadata": {
    "papermill": {
     "duration": 0.023175,
     "end_time": "2025-09-23T04:19:52.328267",
     "exception": false,
     "start_time": "2025-09-23T04:19:52.305092",
     "status": "completed"
    },
    "tags": []
   },
   "source": [
    "If you like, try experimenting with `patience` and `min_delta` to see what difference it might make.\n",
    "\n",
    "# Keep Going #\n",
    "\n",
    "Move on to [**learn about a couple of special layers**](https://www.kaggle.com/ryanholbrook/dropout-and-batch-normalization): batch normalization and dropout."
   ]
  },
  {
   "cell_type": "markdown",
   "id": "64d4d7c3",
   "metadata": {
    "papermill": {
     "duration": 0.023266,
     "end_time": "2025-09-23T04:19:52.374953",
     "exception": false,
     "start_time": "2025-09-23T04:19:52.351687",
     "status": "completed"
    },
    "tags": []
   },
   "source": [
    "---\n",
    "\n",
    "\n",
    "\n",
    "\n",
    "*Have questions or comments? Visit the [course discussion forum](https://www.kaggle.com/learn/intro-to-deep-learning/discussion) to chat with other learners.*"
   ]
  }
 ],
 "metadata": {
  "jupytext": {
   "cell_metadata_filter": "-all",
   "formats": "ipynb"
  },
  "kaggle": {
   "accelerator": "gpu",
   "dataSources": [
    {
     "datasetId": 829369,
     "sourceId": 1480608,
     "sourceType": "datasetVersion"
    }
   ],
   "dockerImageVersionId": 30648,
   "isGpuEnabled": true,
   "isInternetEnabled": false,
   "language": "python",
   "sourceType": "notebook"
  },
  "kernelspec": {
   "display_name": "Python 3",
   "language": "python",
   "name": "python3"
  },
  "language_info": {
   "codemirror_mode": {
    "name": "ipython",
    "version": 3
   },
   "file_extension": ".py",
   "mimetype": "text/x-python",
   "name": "python",
   "nbconvert_exporter": "python",
   "pygments_lexer": "ipython3",
   "version": "3.10.13"
  },
  "papermill": {
   "default_parameters": {},
   "duration": 49.361099,
   "end_time": "2025-09-23T04:19:54.871284",
   "environment_variables": {},
   "exception": null,
   "input_path": "__notebook__.ipynb",
   "output_path": "__notebook__.ipynb",
   "parameters": {},
   "start_time": "2025-09-23T04:19:05.510185",
   "version": "2.5.0"
  }
 },
 "nbformat": 4,
 "nbformat_minor": 5
}
