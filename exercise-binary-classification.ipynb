{
 "cells": [
  {
   "cell_type": "markdown",
   "id": "9519454e",
   "metadata": {
    "papermill": {
     "duration": 0.00353,
     "end_time": "2025-09-23T05:48:22.137687",
     "exception": false,
     "start_time": "2025-09-23T05:48:22.134157",
     "status": "completed"
    },
    "tags": []
   },
   "source": [
    "**This notebook is an exercise in the [Intro to Deep Learning](https://www.kaggle.com/learn/intro-to-deep-learning) course.  You can reference the tutorial at [this link](https://www.kaggle.com/ryanholbrook/binary-classification).**\n",
    "\n",
    "---\n"
   ]
  },
  {
   "cell_type": "markdown",
   "id": "68254abe",
   "metadata": {
    "papermill": {
     "duration": 0.00272,
     "end_time": "2025-09-23T05:48:22.143688",
     "exception": false,
     "start_time": "2025-09-23T05:48:22.140968",
     "status": "completed"
    },
    "tags": []
   },
   "source": [
    "# Introduction #\n",
    "\n",
    "In this exercise, you'll build a model to predict hotel cancellations with a binary classifier."
   ]
  },
  {
   "cell_type": "code",
   "execution_count": 1,
   "id": "3c492c68",
   "metadata": {
    "execution": {
     "iopub.execute_input": "2025-09-23T05:48:22.150855Z",
     "iopub.status.busy": "2025-09-23T05:48:22.150503Z",
     "iopub.status.idle": "2025-09-23T05:48:23.070139Z",
     "shell.execute_reply": "2025-09-23T05:48:23.069154Z"
    },
    "lines_to_next_cell": 0,
    "papermill": {
     "duration": 0.925786,
     "end_time": "2025-09-23T05:48:23.072360",
     "exception": false,
     "start_time": "2025-09-23T05:48:22.146574",
     "status": "completed"
    },
    "tags": []
   },
   "outputs": [
    {
     "name": "stderr",
     "output_type": "stream",
     "text": [
      "/tmp/ipykernel_26/3338970720.py:3: MatplotlibDeprecationWarning: The seaborn styles shipped by Matplotlib are deprecated since 3.6, as they no longer correspond to the styles shipped by seaborn. However, they will remain available as 'seaborn-v0_8-<style>'. Alternatively, directly use the seaborn API instead.\n",
      "  plt.style.use('seaborn-whitegrid')\n"
     ]
    }
   ],
   "source": [
    "# Setup plotting\n",
    "import matplotlib.pyplot as plt\n",
    "plt.style.use('seaborn-whitegrid')\n",
    "# Set Matplotlib defaults\n",
    "plt.rc('figure', autolayout=True)\n",
    "plt.rc('axes', labelweight='bold', labelsize='large',\n",
    "       titleweight='bold', titlesize=18, titlepad=10)\n",
    "plt.rc('animation', html='html5')\n",
    "\n",
    "# Setup feedback system\n",
    "from learntools.core import binder\n",
    "binder.bind(globals())\n",
    "from learntools.deep_learning_intro.ex6 import *"
   ]
  },
  {
   "cell_type": "markdown",
   "id": "f8327fe2",
   "metadata": {
    "papermill": {
     "duration": 0.002859,
     "end_time": "2025-09-23T05:48:23.078546",
     "exception": false,
     "start_time": "2025-09-23T05:48:23.075687",
     "status": "completed"
    },
    "tags": []
   },
   "source": [
    "First, load the *Hotel Cancellations* dataset."
   ]
  },
  {
   "cell_type": "code",
   "execution_count": 2,
   "id": "0d38294e",
   "metadata": {
    "execution": {
     "iopub.execute_input": "2025-09-23T05:48:23.086482Z",
     "iopub.status.busy": "2025-09-23T05:48:23.085539Z",
     "iopub.status.idle": "2025-09-23T05:48:25.717936Z",
     "shell.execute_reply": "2025-09-23T05:48:25.716691Z"
    },
    "lines_to_next_cell": 2,
    "papermill": {
     "duration": 2.640647,
     "end_time": "2025-09-23T05:48:25.722131",
     "exception": false,
     "start_time": "2025-09-23T05:48:23.081484",
     "status": "completed"
    },
    "tags": []
   },
   "outputs": [],
   "source": [
    "import pandas as pd\n",
    "\n",
    "from sklearn.model_selection import train_test_split\n",
    "from sklearn.preprocessing import StandardScaler, OneHotEncoder\n",
    "from sklearn.impute import SimpleImputer\n",
    "from sklearn.pipeline import make_pipeline\n",
    "from sklearn.compose import make_column_transformer\n",
    "\n",
    "hotel = pd.read_csv('../input/dl-course-data/hotel.csv')\n",
    "\n",
    "X = hotel.copy()\n",
    "y = X.pop('is_canceled')\n",
    "\n",
    "X['arrival_date_month'] = \\\n",
    "    X['arrival_date_month'].map(\n",
    "        {'January':1, 'February': 2, 'March':3,\n",
    "         'April':4, 'May':5, 'June':6, 'July':7,\n",
    "         'August':8, 'September':9, 'October':10,\n",
    "         'November':11, 'December':12}\n",
    "    )\n",
    "\n",
    "features_num = [\n",
    "    \"lead_time\", \"arrival_date_week_number\",\n",
    "    \"arrival_date_day_of_month\", \"stays_in_weekend_nights\",\n",
    "    \"stays_in_week_nights\", \"adults\", \"children\", \"babies\",\n",
    "    \"is_repeated_guest\", \"previous_cancellations\",\n",
    "    \"previous_bookings_not_canceled\", \"required_car_parking_spaces\",\n",
    "    \"total_of_special_requests\", \"adr\",\n",
    "]\n",
    "features_cat = [\n",
    "    \"hotel\", \"arrival_date_month\", \"meal\",\n",
    "    \"market_segment\", \"distribution_channel\",\n",
    "    \"reserved_room_type\", \"deposit_type\", \"customer_type\",\n",
    "]\n",
    "\n",
    "transformer_num = make_pipeline(\n",
    "    SimpleImputer(strategy=\"constant\"), # there are a few missing values\n",
    "    StandardScaler(),\n",
    ")\n",
    "transformer_cat = make_pipeline(\n",
    "    SimpleImputer(strategy=\"constant\", fill_value=\"NA\"),\n",
    "    OneHotEncoder(handle_unknown='ignore'),\n",
    ")\n",
    "\n",
    "preprocessor = make_column_transformer(\n",
    "    (transformer_num, features_num),\n",
    "    (transformer_cat, features_cat),\n",
    ")\n",
    "\n",
    "# stratify - make sure classes are evenlly represented across splits\n",
    "X_train, X_valid, y_train, y_valid = \\\n",
    "    train_test_split(X, y, stratify=y, train_size=0.75)\n",
    "\n",
    "X_train = preprocessor.fit_transform(X_train)\n",
    "X_valid = preprocessor.transform(X_valid)\n",
    "\n",
    "input_shape = [X_train.shape[1]]"
   ]
  },
  {
   "cell_type": "markdown",
   "id": "09e7ff74",
   "metadata": {
    "papermill": {
     "duration": 0.004753,
     "end_time": "2025-09-23T05:48:25.733031",
     "exception": false,
     "start_time": "2025-09-23T05:48:25.728278",
     "status": "completed"
    },
    "tags": []
   },
   "source": [
    "# 1) Define Model #\n",
    "\n",
    "The model we'll use this time will have both batch normalization and dropout layers. To ease reading we've broken the diagram into blocks, but you can define it layer by layer as usual.\n",
    "\n",
    "Define a model with an architecture given by this diagram:\n",
    "\n",
    "<figure style=\"padding: 1em;\">\n",
    "<img src=\"https://storage.googleapis.com/kaggle-media/learn/images/V04o59Z.png\" width=\"400\" alt=\"Diagram of network architecture: BatchNorm, Dense, BatchNorm, Dropout, Dense, BatchNorm, Dropout, Dense.\">\n",
    "<figcaption style=\"textalign: center; font-style: italic\"><center>Diagram of a binary classifier.</center></figcaption>\n",
    "</figure>\n"
   ]
  },
  {
   "cell_type": "code",
   "execution_count": 3,
   "id": "0895d80f",
   "metadata": {
    "execution": {
     "iopub.execute_input": "2025-09-23T05:48:25.741303Z",
     "iopub.status.busy": "2025-09-23T05:48:25.740865Z",
     "iopub.status.idle": "2025-09-23T05:48:40.668754Z",
     "shell.execute_reply": "2025-09-23T05:48:40.667874Z"
    },
    "lines_to_next_cell": 2,
    "papermill": {
     "duration": 14.934113,
     "end_time": "2025-09-23T05:48:40.670660",
     "exception": false,
     "start_time": "2025-09-23T05:48:25.736547",
     "status": "completed"
    },
    "tags": []
   },
   "outputs": [
    {
     "name": "stderr",
     "output_type": "stream",
     "text": [
      "2025-09-23 05:48:27.888838: E external/local_xla/xla/stream_executor/cuda/cuda_dnn.cc:9261] Unable to register cuDNN factory: Attempting to register factory for plugin cuDNN when one has already been registered\n",
      "2025-09-23 05:48:27.888973: E external/local_xla/xla/stream_executor/cuda/cuda_fft.cc:607] Unable to register cuFFT factory: Attempting to register factory for plugin cuFFT when one has already been registered\n",
      "2025-09-23 05:48:28.048546: E external/local_xla/xla/stream_executor/cuda/cuda_blas.cc:1515] Unable to register cuBLAS factory: Attempting to register factory for plugin cuBLAS when one has already been registered\n"
     ]
    },
    {
     "data": {
      "application/javascript": [
       "parent.postMessage({\"jupyterEvent\": \"custom.exercise_interaction\", \"data\": {\"outcomeType\": 1, \"valueTowardsCompletion\": 0.3333333333333333, \"interactionType\": 1, \"questionType\": 2, \"questionId\": \"1_Q1\", \"learnToolsVersion\": \"0.3.4\", \"failureMessage\": \"\", \"exceptionClass\": \"\", \"trace\": \"\"}}, \"*\")"
      ],
      "text/plain": [
       "<IPython.core.display.Javascript object>"
      ]
     },
     "metadata": {},
     "output_type": "display_data"
    },
    {
     "data": {
      "text/markdown": [
       "<span style=\"color:#33cc33\">Correct</span>"
      ],
      "text/plain": [
       "Correct"
      ]
     },
     "metadata": {},
     "output_type": "display_data"
    }
   ],
   "source": [
    "from tensorflow import keras\n",
    "from tensorflow.keras import layers\n",
    "\n",
    "# YOUR CODE HERE: define the model given in the diagram\n",
    "model = model = keras.Sequential([\n",
    "    layers.BatchNormalization(input_shape=input_shape),\n",
    "    layers.Dense(256, activation='relu', input_shape=input_shape),\n",
    "    layers.BatchNormalization(),\n",
    "    layers.Dropout(rate=0.3),\n",
    "    layers.Dense(256, activation='relu'),\n",
    "    layers.BatchNormalization(),\n",
    "    layers.Dropout(rate=0.3),\n",
    "    layers.Dense(1, activation='sigmoid'),\n",
    "])\n",
    "\n",
    "# Check your answer\n",
    "q_1.check()"
   ]
  },
  {
   "cell_type": "markdown",
   "id": "9662bfca",
   "metadata": {
    "papermill": {
     "duration": 0.003166,
     "end_time": "2025-09-23T05:48:40.677284",
     "exception": false,
     "start_time": "2025-09-23T05:48:40.674118",
     "status": "completed"
    },
    "tags": []
   },
   "source": [
    "# 2) Add Optimizer, Loss, and Metric #\n",
    "\n",
    "Now compile the model with the Adam optimizer and binary versions of the cross-entropy loss and accuracy metric."
   ]
  },
  {
   "cell_type": "code",
   "execution_count": 4,
   "id": "236fa58d",
   "metadata": {
    "execution": {
     "iopub.execute_input": "2025-09-23T05:48:40.685383Z",
     "iopub.status.busy": "2025-09-23T05:48:40.684725Z",
     "iopub.status.idle": "2025-09-23T05:48:40.707488Z",
     "shell.execute_reply": "2025-09-23T05:48:40.706584Z"
    },
    "lines_to_next_cell": 0,
    "papermill": {
     "duration": 0.028938,
     "end_time": "2025-09-23T05:48:40.709366",
     "exception": false,
     "start_time": "2025-09-23T05:48:40.680428",
     "status": "completed"
    },
    "tags": []
   },
   "outputs": [
    {
     "data": {
      "application/javascript": [
       "parent.postMessage({\"jupyterEvent\": \"custom.exercise_interaction\", \"data\": {\"outcomeType\": 1, \"valueTowardsCompletion\": 0.3333333333333333, \"interactionType\": 1, \"questionType\": 2, \"questionId\": \"2_Q2\", \"learnToolsVersion\": \"0.3.4\", \"failureMessage\": \"\", \"exceptionClass\": \"\", \"trace\": \"\"}}, \"*\")"
      ],
      "text/plain": [
       "<IPython.core.display.Javascript object>"
      ]
     },
     "metadata": {},
     "output_type": "display_data"
    },
    {
     "data": {
      "text/markdown": [
       "<span style=\"color:#33cc33\">Correct</span>"
      ],
      "text/plain": [
       "Correct"
      ]
     },
     "metadata": {},
     "output_type": "display_data"
    }
   ],
   "source": [
    "# YOUR CODE HERE\n",
    "model.compile(\n",
    "    optimizer='adam',\n",
    "    loss='binary_crossentropy',\n",
    "    metrics=['binary_accuracy'],\n",
    ")\n",
    "# Check your answer\n",
    "q_2.check()"
   ]
  },
  {
   "cell_type": "code",
   "execution_count": 5,
   "id": "710ea1f8",
   "metadata": {
    "execution": {
     "iopub.execute_input": "2025-09-23T05:48:40.718314Z",
     "iopub.status.busy": "2025-09-23T05:48:40.717684Z",
     "iopub.status.idle": "2025-09-23T05:48:40.721381Z",
     "shell.execute_reply": "2025-09-23T05:48:40.720509Z"
    },
    "lines_to_next_cell": 0,
    "papermill": {
     "duration": 0.009922,
     "end_time": "2025-09-23T05:48:40.723056",
     "exception": false,
     "start_time": "2025-09-23T05:48:40.713134",
     "status": "completed"
    },
    "tags": []
   },
   "outputs": [],
   "source": [
    "# Lines below will give you a hint or solution code\n",
    "#q_2.hint()\n",
    "#q_2.solution()"
   ]
  },
  {
   "cell_type": "markdown",
   "id": "59b33a9f",
   "metadata": {
    "papermill": {
     "duration": 0.00332,
     "end_time": "2025-09-23T05:48:40.730055",
     "exception": false,
     "start_time": "2025-09-23T05:48:40.726735",
     "status": "completed"
    },
    "tags": []
   },
   "source": [
    "Finally, run this cell to train the model and view the learning curves. It may run for around 60 to 70 epochs, which could take a minute or two."
   ]
  },
  {
   "cell_type": "code",
   "execution_count": 6,
   "id": "38506a27",
   "metadata": {
    "execution": {
     "iopub.execute_input": "2025-09-23T05:48:40.738857Z",
     "iopub.status.busy": "2025-09-23T05:48:40.738495Z",
     "iopub.status.idle": "2025-09-23T05:49:26.452086Z",
     "shell.execute_reply": "2025-09-23T05:49:26.451124Z"
    },
    "papermill": {
     "duration": 45.72019,
     "end_time": "2025-09-23T05:49:26.453869",
     "exception": false,
     "start_time": "2025-09-23T05:48:40.733679",
     "status": "completed"
    },
    "tags": []
   },
   "outputs": [
    {
     "name": "stdout",
     "output_type": "stream",
     "text": [
      "Epoch 1/200\n"
     ]
    },
    {
     "name": "stderr",
     "output_type": "stream",
     "text": [
      "WARNING: All log messages before absl::InitializeLog() is called are written to STDERR\n",
      "I0000 00:00:1758606525.072083      67 device_compiler.h:186] Compiled cluster using XLA!  This line is logged at most once for the lifetime of the process.\n"
     ]
    },
    {
     "name": "stdout",
     "output_type": "stream",
     "text": [
      "175/175 [==============================] - 6s 7ms/step - loss: 0.4817 - binary_accuracy: 0.7702 - val_loss: 0.4320 - val_binary_accuracy: 0.8044\n",
      "Epoch 2/200\n",
      "175/175 [==============================] - 1s 6ms/step - loss: 0.4236 - binary_accuracy: 0.8002 - val_loss: 0.4029 - val_binary_accuracy: 0.8135\n",
      "Epoch 3/200\n",
      "175/175 [==============================] - 1s 6ms/step - loss: 0.4089 - binary_accuracy: 0.8082 - val_loss: 0.3932 - val_binary_accuracy: 0.8159\n",
      "Epoch 4/200\n",
      "175/175 [==============================] - 1s 7ms/step - loss: 0.4027 - binary_accuracy: 0.8114 - val_loss: 0.3879 - val_binary_accuracy: 0.8208\n",
      "Epoch 5/200\n",
      "175/175 [==============================] - 1s 6ms/step - loss: 0.3966 - binary_accuracy: 0.8135 - val_loss: 0.3852 - val_binary_accuracy: 0.8228\n",
      "Epoch 6/200\n",
      "175/175 [==============================] - 1s 6ms/step - loss: 0.3936 - binary_accuracy: 0.8166 - val_loss: 0.3809 - val_binary_accuracy: 0.8233\n",
      "Epoch 7/200\n",
      "175/175 [==============================] - 1s 6ms/step - loss: 0.3892 - binary_accuracy: 0.8189 - val_loss: 0.3820 - val_binary_accuracy: 0.8259\n",
      "Epoch 8/200\n",
      "175/175 [==============================] - 1s 6ms/step - loss: 0.3860 - binary_accuracy: 0.8195 - val_loss: 0.3757 - val_binary_accuracy: 0.8272\n",
      "Epoch 9/200\n",
      "175/175 [==============================] - 1s 7ms/step - loss: 0.3822 - binary_accuracy: 0.8221 - val_loss: 0.3742 - val_binary_accuracy: 0.8302\n",
      "Epoch 10/200\n",
      "175/175 [==============================] - 1s 6ms/step - loss: 0.3788 - binary_accuracy: 0.8243 - val_loss: 0.3715 - val_binary_accuracy: 0.8318\n",
      "Epoch 11/200\n",
      "175/175 [==============================] - 1s 6ms/step - loss: 0.3763 - binary_accuracy: 0.8253 - val_loss: 0.3709 - val_binary_accuracy: 0.8309\n",
      "Epoch 12/200\n",
      "175/175 [==============================] - 1s 6ms/step - loss: 0.3746 - binary_accuracy: 0.8262 - val_loss: 0.3689 - val_binary_accuracy: 0.8332\n",
      "Epoch 13/200\n",
      "175/175 [==============================] - 1s 6ms/step - loss: 0.3717 - binary_accuracy: 0.8279 - val_loss: 0.3670 - val_binary_accuracy: 0.8308\n",
      "Epoch 14/200\n",
      "175/175 [==============================] - 1s 6ms/step - loss: 0.3697 - binary_accuracy: 0.8296 - val_loss: 0.3701 - val_binary_accuracy: 0.8308\n",
      "Epoch 15/200\n",
      "175/175 [==============================] - 1s 6ms/step - loss: 0.3681 - binary_accuracy: 0.8298 - val_loss: 0.3683 - val_binary_accuracy: 0.8327\n",
      "Epoch 16/200\n",
      "175/175 [==============================] - 1s 6ms/step - loss: 0.3652 - binary_accuracy: 0.8310 - val_loss: 0.3663 - val_binary_accuracy: 0.8349\n",
      "Epoch 17/200\n",
      "175/175 [==============================] - 1s 6ms/step - loss: 0.3643 - binary_accuracy: 0.8308 - val_loss: 0.3622 - val_binary_accuracy: 0.8357\n",
      "Epoch 18/200\n",
      "175/175 [==============================] - 1s 6ms/step - loss: 0.3630 - binary_accuracy: 0.8317 - val_loss: 0.3640 - val_binary_accuracy: 0.8353\n",
      "Epoch 19/200\n",
      "175/175 [==============================] - 1s 6ms/step - loss: 0.3606 - binary_accuracy: 0.8331 - val_loss: 0.3618 - val_binary_accuracy: 0.8361\n",
      "Epoch 20/200\n",
      "175/175 [==============================] - 1s 6ms/step - loss: 0.3592 - binary_accuracy: 0.8332 - val_loss: 0.3598 - val_binary_accuracy: 0.8354\n",
      "Epoch 21/200\n",
      "175/175 [==============================] - 1s 6ms/step - loss: 0.3579 - binary_accuracy: 0.8334 - val_loss: 0.3587 - val_binary_accuracy: 0.8382\n",
      "Epoch 22/200\n",
      "175/175 [==============================] - 1s 6ms/step - loss: 0.3559 - binary_accuracy: 0.8364 - val_loss: 0.3579 - val_binary_accuracy: 0.8375\n",
      "Epoch 23/200\n",
      "175/175 [==============================] - 1s 6ms/step - loss: 0.3550 - binary_accuracy: 0.8358 - val_loss: 0.3590 - val_binary_accuracy: 0.8379\n",
      "Epoch 24/200\n",
      "175/175 [==============================] - 1s 6ms/step - loss: 0.3528 - binary_accuracy: 0.8356 - val_loss: 0.3589 - val_binary_accuracy: 0.8362\n",
      "Epoch 25/200\n",
      "175/175 [==============================] - 1s 6ms/step - loss: 0.3521 - binary_accuracy: 0.8372 - val_loss: 0.3618 - val_binary_accuracy: 0.8353\n",
      "Epoch 26/200\n",
      "175/175 [==============================] - 1s 6ms/step - loss: 0.3516 - binary_accuracy: 0.8373 - val_loss: 0.3554 - val_binary_accuracy: 0.8385\n",
      "Epoch 27/200\n",
      "175/175 [==============================] - 1s 6ms/step - loss: 0.3496 - binary_accuracy: 0.8395 - val_loss: 0.3572 - val_binary_accuracy: 0.8380\n",
      "Epoch 28/200\n",
      "175/175 [==============================] - 1s 6ms/step - loss: 0.3490 - binary_accuracy: 0.8392 - val_loss: 0.3557 - val_binary_accuracy: 0.8384\n",
      "Epoch 29/200\n",
      "175/175 [==============================] - 1s 6ms/step - loss: 0.3483 - binary_accuracy: 0.8387 - val_loss: 0.3538 - val_binary_accuracy: 0.8405\n",
      "Epoch 30/200\n",
      "175/175 [==============================] - 1s 6ms/step - loss: 0.3472 - binary_accuracy: 0.8402 - val_loss: 0.3559 - val_binary_accuracy: 0.8387\n",
      "Epoch 31/200\n",
      "175/175 [==============================] - 1s 6ms/step - loss: 0.3466 - binary_accuracy: 0.8398 - val_loss: 0.3525 - val_binary_accuracy: 0.8402\n",
      "Epoch 32/200\n",
      "175/175 [==============================] - 1s 6ms/step - loss: 0.3437 - binary_accuracy: 0.8411 - val_loss: 0.3520 - val_binary_accuracy: 0.8408\n",
      "Epoch 33/200\n",
      "175/175 [==============================] - 1s 6ms/step - loss: 0.3440 - binary_accuracy: 0.8424 - val_loss: 0.3536 - val_binary_accuracy: 0.8398\n",
      "Epoch 34/200\n",
      "175/175 [==============================] - 1s 6ms/step - loss: 0.3425 - binary_accuracy: 0.8409 - val_loss: 0.3549 - val_binary_accuracy: 0.8411\n",
      "Epoch 35/200\n",
      "175/175 [==============================] - 1s 6ms/step - loss: 0.3418 - binary_accuracy: 0.8422 - val_loss: 0.3544 - val_binary_accuracy: 0.8400\n",
      "Epoch 36/200\n",
      "175/175 [==============================] - 1s 6ms/step - loss: 0.3416 - binary_accuracy: 0.8420 - val_loss: 0.3519 - val_binary_accuracy: 0.8397\n"
     ]
    },
    {
     "data": {
      "text/plain": [
       "<Axes: title={'center': 'Accuracy'}>"
      ]
     },
     "execution_count": 6,
     "metadata": {},
     "output_type": "execute_result"
    },
    {
     "data": {
      "image/png": "[encoded data removed]",
      "text/plain": [
       "<Figure size 640x480 with 1 Axes>"
      ]
     },
     "metadata": {},
     "output_type": "display_data"
    },
    {
     "data": {
      "image/png": "[encoded data removed]",
      "text/plain": [
       "<Figure size 640x480 with 1 Axes>"
      ]
     },
     "metadata": {},
     "output_type": "display_data"
    }
   ],
   "source": [
    "early_stopping = keras.callbacks.EarlyStopping(\n",
    "    patience=5,\n",
    "    min_delta=0.001,\n",
    "    restore_best_weights=True,\n",
    ")\n",
    "history = model.fit(\n",
    "    X_train, y_train,\n",
    "    validation_data=(X_valid, y_valid),\n",
    "    batch_size=512,\n",
    "    epochs=200,\n",
    "    callbacks=[early_stopping],\n",
    ")\n",
    "\n",
    "history_df = pd.DataFrame(history.history)\n",
    "history_df.loc[:, ['loss', 'val_loss']].plot(title=\"Cross-entropy\")\n",
    "history_df.loc[:, ['binary_accuracy', 'val_binary_accuracy']].plot(title=\"Accuracy\")"
   ]
  },
  {
   "cell_type": "markdown",
   "id": "ca4221f4",
   "metadata": {
    "papermill": {
     "duration": 0.043273,
     "end_time": "2025-09-23T05:49:26.540491",
     "exception": false,
     "start_time": "2025-09-23T05:49:26.497218",
     "status": "completed"
    },
    "tags": []
   },
   "source": [
    "# 3) Train and Evaluate #\n",
    "\n",
    "\n",
    "What do you think about the learning curves? Does it look like the model underfit or overfit? Was the cross-entropy loss a good stand-in for accuracy?"
   ]
  },
  {
   "cell_type": "code",
   "execution_count": 7,
   "id": "e4e462bb",
   "metadata": {
    "execution": {
     "iopub.execute_input": "2025-09-23T05:49:26.629548Z",
     "iopub.status.busy": "2025-09-23T05:49:26.628631Z",
     "iopub.status.idle": "2025-09-23T05:49:26.636023Z",
     "shell.execute_reply": "2025-09-23T05:49:26.635156Z"
    },
    "papermill": {
     "duration": 0.053458,
     "end_time": "2025-09-23T05:49:26.637673",
     "exception": false,
     "start_time": "2025-09-23T05:49:26.584215",
     "status": "completed"
    },
    "tags": []
   },
   "outputs": [
    {
     "data": {
      "application/javascript": [
       "parent.postMessage({\"jupyterEvent\": \"custom.exercise_interaction\", \"data\": {\"outcomeType\": 1, \"valueTowardsCompletion\": 0.3333333333333333, \"interactionType\": 1, \"questionType\": 4, \"questionId\": \"3_Q3\", \"learnToolsVersion\": \"0.3.4\", \"failureMessage\": \"\", \"exceptionClass\": \"\", \"trace\": \"\"}}, \"*\")"
      ],
      "text/plain": [
       "<IPython.core.display.Javascript object>"
      ]
     },
     "metadata": {},
     "output_type": "display_data"
    },
    {
     "data": {
      "text/markdown": [
       "<span style=\"color:#33cc33\">Correct:</span> \n",
       "\n",
       "Though we can see the training loss continuing to fall, the early stopping callback prevented any overfitting. Moreover, the accuracy rose at the same rate as the cross-entropy fell, so it appears that minimizing cross-entropy was a good stand-in. All in all, it looks like this training was a success!"
      ],
      "text/plain": [
       "Correct: \n",
       "\n",
       "Though we can see the training loss continuing to fall, the early stopping callback prevented any overfitting. Moreover, the accuracy rose at the same rate as the cross-entropy fell, so it appears that minimizing cross-entropy was a good stand-in. All in all, it looks like this training was a success!"
      ]
     },
     "metadata": {},
     "output_type": "display_data"
    }
   ],
   "source": [
    "# View the solution (Run this cell to receive credit!)\n",
    "q_3.check()"
   ]
  },
  {
   "cell_type": "markdown",
   "id": "2f685042",
   "metadata": {
    "papermill": {
     "duration": 0.040418,
     "end_time": "2025-09-23T05:49:26.719064",
     "exception": false,
     "start_time": "2025-09-23T05:49:26.678646",
     "status": "completed"
    },
    "tags": []
   },
   "source": [
    "# Conclusion #\n",
    "\n",
    "Congratulations! You've completed Kaggle's *Introduction to Deep Learning* course!\n",
    "\n",
    "With your new skills you're ready to take on more advanced applications like computer vision and sentiment classification. What would you like to do next?\n",
    "\n",
    "Why not try one of our *Getting Started* competitions?\n",
    "\n",
    "- Classify images with TPUs in [**Petals to the Metal**](https://www.kaggle.com/c/tpu-getting-started)\n",
    "- Create art with GANs in [**I'm Something of a Painter Myself**](https://www.kaggle.com/c/gan-getting-started)\n",
    "- Classify Tweets in [**Real or Not? NLP with Disaster Tweets**](https://www.kaggle.com/c/nlp-getting-started)\n",
    "- Detect contradiction and entailment in [**Contradictory, My Dear Watson**](https://www.kaggle.com/c/contradictory-my-dear-watson)\n",
    "\n",
    "Until next time, Kagglers!"
   ]
  },
  {
   "cell_type": "markdown",
   "id": "4aa0fafd",
   "metadata": {
    "papermill": {
     "duration": 0.042362,
     "end_time": "2025-09-23T05:49:26.801887",
     "exception": false,
     "start_time": "2025-09-23T05:49:26.759525",
     "status": "completed"
    },
    "tags": []
   },
   "source": [
    "---\n",
    "\n",
    "\n",
    "\n",
    "\n",
    "*Have questions or comments? Visit the [course discussion forum](https://www.kaggle.com/learn/intro-to-deep-learning/discussion) to chat with other learners.*"
   ]
  }
 ],
 "metadata": {
  "jupytext": {
   "cell_metadata_filter": "-all",
   "formats": "ipynb"
  },
  "kaggle": {
   "accelerator": "gpu",
   "dataSources": [
    {
     "datasetId": 829369,
     "sourceId": 1480608,
     "sourceType": "datasetVersion"
    }
   ],
   "dockerImageVersionId": 30648,
   "isGpuEnabled": true,
   "isInternetEnabled": false,
   "language": "python",
   "sourceType": "notebook"
  },
  "kernelspec": {
   "display_name": "Python 3",
   "language": "python",
   "name": "python3"
  },
  "language_info": {
   "codemirror_mode": {
    "name": "ipython",
    "version": 3
   },
   "file_extension": ".py",
   "mimetype": "text/x-python",
   "name": "python",
   "nbconvert_exporter": "python",
   "pygments_lexer": "ipython3",
   "version": "3.10.13"
  },
  "papermill": {
   "default_parameters": {},
   "duration": 70.425681,
   "end_time": "2025-09-23T05:49:29.625184",
   "environment_variables": {},
   "exception": null,
   "input_path": "__notebook__.ipynb",
   "output_path": "__notebook__.ipynb",
   "parameters": {},
   "start_time": "2025-09-23T05:48:19.199503",
   "version": "2.5.0"
  }
 },
 "nbformat": 4,
 "nbformat_minor": 5
}
